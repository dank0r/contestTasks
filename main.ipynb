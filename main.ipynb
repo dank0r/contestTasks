{
 "cells": [
  {
   "cell_type": "code",
   "execution_count": 1,
   "metadata": {},
   "outputs": [],
   "source": [
    "import pandas as pd\n",
    "import polyline\n",
    "\n",
    "\n",
    "import matplotlib.pyplot as plt\n",
    "import numpy as np\n",
    "from numpy.linalg import norm\n",
    "\n",
    "from sklearn.model_selection import train_test_split\n",
    "#from sklearn.preprocessing import Imputer\n",
    "from sklearn.impute import SimpleImputer \n",
    "from xgboost import XGBRegressor\n",
    "from sklearn.metrics import mean_absolute_error\n",
    "from sklearn.model_selection import StratifiedKFold\n",
    " \n",
    "#Оптимизация буста    \n",
    "import xgboost as xgb\n",
    "from sklearn import preprocessing\n",
    "# from sklearn.cross_validation import train_test_split\n",
    "# from sklearn.cross_validation import *\n",
    "\n",
    "from sklearn.model_selection import GridSearchCV\n",
    "#from sklearn.grid_search import GridSearchCV\n",
    "\n",
    "\n"
   ]
  },
  {
   "cell_type": "code",
   "execution_count": null,
   "metadata": {},
   "outputs": [],
   "source": []
  },
  {
   "cell_type": "markdown",
   "metadata": {},
   "source": [
    "# 1. Предсказание поведения сервиса. Весьма умеренно зверская) задача\n"
   ]
  },
  {
   "cell_type": "code",
   "execution_count": 102,
   "metadata": {},
   "outputs": [
    {
     "data": {
      "text/plain": [
       "Index(['timestamp', 'count', 'conns', 'read_bytes_total', 'latency_ms_sum'], dtype='object')"
      ]
     },
     "execution_count": 102,
     "metadata": {},
     "output_type": "execute_result"
    }
   ],
   "source": [
    "data = pd.read_csv('predict.csv')\n",
    "\n",
    "data.columns"
   ]
  },
  {
   "cell_type": "markdown",
   "metadata": {},
   "source": [
    "# Поиск Аномалий, но Сперва! Standardize the Data"
   ]
  },
  {
   "cell_type": "code",
   "execution_count": 134,
   "metadata": {},
   "outputs": [
    {
     "data": {
      "text/html": [
       "<div>\n",
       "<style scoped>\n",
       "    .dataframe tbody tr th:only-of-type {\n",
       "        vertical-align: middle;\n",
       "    }\n",
       "\n",
       "    .dataframe tbody tr th {\n",
       "        vertical-align: top;\n",
       "    }\n",
       "\n",
       "    .dataframe thead th {\n",
       "        text-align: right;\n",
       "    }\n",
       "</style>\n",
       "<table border=\"1\" class=\"dataframe\">\n",
       "  <thead>\n",
       "    <tr style=\"text-align: right;\">\n",
       "      <th></th>\n",
       "      <th>0</th>\n",
       "      <th>1</th>\n",
       "      <th>2</th>\n",
       "      <th>3</th>\n",
       "    </tr>\n",
       "  </thead>\n",
       "  <tbody>\n",
       "    <tr>\n",
       "      <th>count</th>\n",
       "      <td>8.352000e+03</td>\n",
       "      <td>8.352000e+03</td>\n",
       "      <td>8.352000e+03</td>\n",
       "      <td>8.352000e+03</td>\n",
       "    </tr>\n",
       "    <tr>\n",
       "      <th>mean</th>\n",
       "      <td>3.161052e-17</td>\n",
       "      <td>4.152835e-16</td>\n",
       "      <td>1.968147e-16</td>\n",
       "      <td>1.968280e-16</td>\n",
       "    </tr>\n",
       "    <tr>\n",
       "      <th>std</th>\n",
       "      <td>1.000060e+00</td>\n",
       "      <td>9.781470e-01</td>\n",
       "      <td>9.781470e-01</td>\n",
       "      <td>9.781470e-01</td>\n",
       "    </tr>\n",
       "    <tr>\n",
       "      <th>min</th>\n",
       "      <td>-1.731843e+00</td>\n",
       "      <td>-1.792109e+00</td>\n",
       "      <td>-3.822831e+00</td>\n",
       "      <td>-1.798848e+00</td>\n",
       "    </tr>\n",
       "    <tr>\n",
       "      <th>25%</th>\n",
       "      <td>-8.659217e-01</td>\n",
       "      <td>-6.622916e-01</td>\n",
       "      <td>-6.278116e-01</td>\n",
       "      <td>-6.447271e-01</td>\n",
       "    </tr>\n",
       "    <tr>\n",
       "      <th>50%</th>\n",
       "      <td>0.000000e+00</td>\n",
       "      <td>0.000000e+00</td>\n",
       "      <td>-1.106322e-01</td>\n",
       "      <td>-2.675270e-02</td>\n",
       "    </tr>\n",
       "    <tr>\n",
       "      <th>75%</th>\n",
       "      <td>8.659217e-01</td>\n",
       "      <td>7.795441e-01</td>\n",
       "      <td>4.640115e-01</td>\n",
       "      <td>6.306004e-01</td>\n",
       "    </tr>\n",
       "    <tr>\n",
       "      <th>max</th>\n",
       "      <td>1.731843e+00</td>\n",
       "      <td>1.752219e+00</td>\n",
       "      <td>4.854290e+00</td>\n",
       "      <td>2.030682e+00</td>\n",
       "    </tr>\n",
       "  </tbody>\n",
       "</table>\n",
       "</div>"
      ],
      "text/plain": [
       "                  0             1             2             3\n",
       "count  8.352000e+03  8.352000e+03  8.352000e+03  8.352000e+03\n",
       "mean   3.161052e-17  4.152835e-16  1.968147e-16  1.968280e-16\n",
       "std    1.000060e+00  9.781470e-01  9.781470e-01  9.781470e-01\n",
       "min   -1.731843e+00 -1.792109e+00 -3.822831e+00 -1.798848e+00\n",
       "25%   -8.659217e-01 -6.622916e-01 -6.278116e-01 -6.447271e-01\n",
       "50%    0.000000e+00  0.000000e+00 -1.106322e-01 -2.675270e-02\n",
       "75%    8.659217e-01  7.795441e-01  4.640115e-01  6.306004e-01\n",
       "max    1.731843e+00  1.752219e+00  4.854290e+00  2.030682e+00"
      ]
     },
     "execution_count": 134,
     "metadata": {},
     "output_type": "execute_result"
    }
   ],
   "source": [
    "from sklearn.preprocessing import StandardScaler\n",
    "features = ['timestamp', 'count', 'conns', 'read_bytes_total']\n",
    "# Separating out the features\n",
    "x = data.loc[:, features].values\n",
    "# Separating out the target\n",
    "y = data.loc[:,'latency_ms_sum'].values\n",
    "# Standardizing the features\n",
    "x = StandardScaler().fit_transform(x)\n",
    "\n",
    "X =pd.DataFrame(x)\n",
    "X.fillna(0,inplace=True, axis=1)\n",
    "X.describe()"
   ]
  },
  {
   "cell_type": "markdown",
   "metadata": {},
   "source": [
    "# PCA Projection to 2D"
   ]
  },
  {
   "cell_type": "code",
   "execution_count": 135,
   "metadata": {},
   "outputs": [],
   "source": [
    "from sklearn.decomposition import PCA\n",
    "\n",
    "pca = PCA(n_components=2)\n",
    "principalComponents = pca.fit_transform(x)\n"
   ]
  },
  {
   "cell_type": "code",
   "execution_count": 159,
   "metadata": {},
   "outputs": [
    {
     "data": {
      "text/html": [
       "<div>\n",
       "<style scoped>\n",
       "    .dataframe tbody tr th:only-of-type {\n",
       "        vertical-align: middle;\n",
       "    }\n",
       "\n",
       "    .dataframe tbody tr th {\n",
       "        vertical-align: top;\n",
       "    }\n",
       "\n",
       "    .dataframe thead th {\n",
       "        text-align: right;\n",
       "    }\n",
       "</style>\n",
       "<table border=\"1\" class=\"dataframe\">\n",
       "  <thead>\n",
       "    <tr style=\"text-align: right;\">\n",
       "      <th></th>\n",
       "      <th>principal component 1</th>\n",
       "      <th>principal component 2</th>\n",
       "    </tr>\n",
       "  </thead>\n",
       "  <tbody>\n",
       "    <tr>\n",
       "      <th>0</th>\n",
       "      <td>0.776591</td>\n",
       "      <td>-1.686521</td>\n",
       "    </tr>\n",
       "    <tr>\n",
       "      <th>1</th>\n",
       "      <td>0.765655</td>\n",
       "      <td>-1.742252</td>\n",
       "    </tr>\n",
       "    <tr>\n",
       "      <th>2</th>\n",
       "      <td>0.762976</td>\n",
       "      <td>-1.754786</td>\n",
       "    </tr>\n",
       "    <tr>\n",
       "      <th>3</th>\n",
       "      <td>0.760301</td>\n",
       "      <td>-1.767321</td>\n",
       "    </tr>\n",
       "    <tr>\n",
       "      <th>4</th>\n",
       "      <td>0.744663</td>\n",
       "      <td>-1.849008</td>\n",
       "    </tr>\n",
       "  </tbody>\n",
       "</table>\n",
       "</div>"
      ],
      "text/plain": [
       "   principal component 1  principal component 2\n",
       "0               0.776591              -1.686521\n",
       "1               0.765655              -1.742252\n",
       "2               0.762976              -1.754786\n",
       "3               0.760301              -1.767321\n",
       "4               0.744663              -1.849008"
      ]
     },
     "execution_count": 159,
     "metadata": {},
     "output_type": "execute_result"
    }
   ],
   "source": [
    "principalDf = pd.DataFrame(data = principalComponents\n",
    "             , columns = ['principal component 1', 'principal component 2'])\n",
    "principalDf.head()"
   ]
  },
  {
   "cell_type": "markdown",
   "metadata": {},
   "source": [
    "# Видим, что аномалии присутсвуют"
   ]
  },
  {
   "cell_type": "code",
   "execution_count": 164,
   "metadata": {},
   "outputs": [
    {
     "data": {
      "text/plain": [
       "<matplotlib.axes._subplots.AxesSubplot at 0x1a4f3862b08>"
      ]
     },
     "execution_count": 164,
     "metadata": {},
     "output_type": "execute_result"
    },
    {
     "data": {
      "image/png": "[encoded data removed]",
      "text/plain": [
       "<Figure size 432x288 with 1 Axes>"
      ]
     },
     "metadata": {
      "needs_background": "light"
     },
     "output_type": "display_data"
    }
   ],
   "source": [
    "principalDf.plot.scatter(x='principal component 1',\n",
    "                      y='principal component 2',\n",
    "                      c='DarkBlue')\n",
    "#finalDf = pd.concat([principalDf, data[['latency_ms_sum']]], axis = 1)"
   ]
  },
  {
   "cell_type": "code",
   "execution_count": null,
   "metadata": {},
   "outputs": [],
   "source": []
  },
  {
   "cell_type": "markdown",
   "metadata": {},
   "source": [
    "# А Давайте попробуем XGBoost?!?!?!?!?"
   ]
  },
  {
   "cell_type": "code",
   "execution_count": 17,
   "metadata": {},
   "outputs": [
    {
     "data": {
      "text/plain": [
       "XGBRegressor(base_score=0.5, booster=None, colsample_bylevel=1,\n",
       "             colsample_bynode=1, colsample_bytree=1, gamma=0, gpu_id=-1,\n",
       "             importance_type='gain', interaction_constraints=None,\n",
       "             learning_rate=0.05, max_delta_step=0, max_depth=6,\n",
       "             min_child_weight=1, missing=nan, monotone_constraints=None,\n",
       "             n_estimators=1100, n_jobs=0, num_parallel_tree=1,\n",
       "             objective='reg:squarederror', random_state=0, reg_alpha=0,\n",
       "             reg_lambda=1, scale_pos_weight=1, subsample=1, tree_method=None,\n",
       "             validate_parameters=False, verbosity=None)"
      ]
     },
     "execution_count": 17,
     "metadata": {},
     "output_type": "execute_result"
    }
   ],
   "source": [
    "data.dropna(axis=0, subset=['latency_ms_sum'], inplace=True)\n",
    "\n",
    "y = data.latency_ms_sum\n",
    "X = data.drop(['latency_ms_sum'], axis=1).select_dtypes(exclude=['object'])\n",
    "\n",
    "train_X, test_X, train_y, test_y = train_test_split(X.values, y.values, test_size=0.25)\n",
    "\n",
    "my_imputer = SimpleImputer()\n",
    "\n",
    "train_X = my_imputer.fit_transform(train_X)\n",
    "test_X = my_imputer.transform(test_X)\n",
    "\n",
    "\n",
    "\n",
    "\n",
    "my_model = XGBRegressor(n_estimators=1100, learning_rate=0.05)\n",
    "my_model.fit(train_X, train_y, early_stopping_rounds=5, \n",
    "             eval_set=[(test_X, test_y)], verbose=False)"
   ]
  },
  {
   "cell_type": "code",
   "execution_count": null,
   "metadata": {},
   "outputs": [],
   "source": []
  },
  {
   "cell_type": "code",
   "execution_count": 18,
   "metadata": {},
   "outputs": [],
   "source": [
    "predictions1 = my_model.predict(test_X)\n",
    "#predictions1"
   ]
  },
  {
   "cell_type": "code",
   "execution_count": 19,
   "metadata": {},
   "outputs": [],
   "source": [
    "err = abs(test_y-predictions1).mean()"
   ]
  },
  {
   "cell_type": "code",
   "execution_count": 20,
   "metadata": {},
   "outputs": [
    {
     "name": "stdout",
     "output_type": "stream",
     "text": [
      "ES and LR Mean Absolute Error : 466834.42320996016\n"
     ]
    }
   ],
   "source": [
    "print(\"ES and LR Mean Absolute Error : \" + str(mean_absolute_error(predictions1, test_y)))"
   ]
  },
  {
   "cell_type": "markdown",
   "metadata": {},
   "source": [
    "# ES and LR Mean Absolute Error : 18138.6426156 "
   ]
  },
  {
   "cell_type": "code",
   "execution_count": null,
   "metadata": {},
   "outputs": [],
   "source": []
  },
  {
   "cell_type": "code",
   "execution_count": 21,
   "metadata": {},
   "outputs": [
    {
     "data": {
      "text/plain": [
       "1998"
      ]
     },
     "execution_count": 21,
     "metadata": {},
     "output_type": "execute_result"
    }
   ],
   "source": [
    "len(predictions1)"
   ]
  },
  {
   "cell_type": "code",
   "execution_count": 22,
   "metadata": {},
   "outputs": [],
   "source": [
    "# Для наглядности построим график результатов для первых 100 из 2000 точек"
   ]
  },
  {
   "cell_type": "code",
   "execution_count": 96,
   "metadata": {},
   "outputs": [
    {
     "data": {
      "text/plain": [
       "[<matplotlib.lines.Line2D at 0x1a4f30c39c8>]"
      ]
     },
     "execution_count": 96,
     "metadata": {},
     "output_type": "execute_result"
    },
    {
     "data": {
      "image/png": "[encoded data removed]",
      "text/plain": [
       "<Figure size 2160x432 with 1 Axes>"
      ]
     },
     "metadata": {
      "needs_background": "light"
     },
     "output_type": "display_data"
    }
   ],
   "source": [
    "x = np.linspace(0, 1, 1998)[:100]\n",
    "\n",
    "y1 = predictions1[:100]\n",
    "y2 = test_y[:100]\n",
    "plt.figure(figsize=(30,6))\n",
    "plt.grid()            \n",
    "plt.plot(x, y1, label='Предсказанное', color='red')\n",
    "plt.plot(x, y2, label='Реальное', color='green')"
   ]
  },
  {
   "cell_type": "code",
   "execution_count": null,
   "metadata": {},
   "outputs": [],
   "source": []
  },
  {
   "cell_type": "markdown",
   "metadata": {},
   "source": [
    "# 2.       Оценка среднего значения и дисперсии для времени обработки запросов сервисом. Не зверская) задача\n"
   ]
  },
  {
   "cell_type": "code",
   "execution_count": 11,
   "metadata": {},
   "outputs": [],
   "source": [
    "# timestamp - календарное время снятия показаний работы сервиса в формате time_t.\n",
    "# Inf - Суммарное количество обработанных запросов сервисом с момента старта.\n",
    "# 1 - Суммарное количество обработанных запросов, каждый из которых занял меньше чем 1 миллисекунду.\n",
    "# 2 - Суммарное количество обработанных запросов, каждый из которых занял меньше чем 2 миллисекунды.\n",
    "# ...\n",
    "# 90000 - Суммарное количество обработанных запросов, каждый из которых занял меньше чем 90 секунд.\n",
    " \n",
    "# Ваша задача:\n",
    "# 1.       Рассчитать среднее значение и дисперсию для времени обработки запросов сервисом в зависимости от календарного времени.\n",
    "# 2.       Отобразить среднее значение времени обработки запроса и дисперсию на графиках в зависимости от календарного времени."
   ]
  },
  {
   "cell_type": "code",
   "execution_count": 12,
   "metadata": {},
   "outputs": [
    {
     "data": {
      "text/html": [
       "<div>\n",
       "<style scoped>\n",
       "    .dataframe tbody tr th:only-of-type {\n",
       "        vertical-align: middle;\n",
       "    }\n",
       "\n",
       "    .dataframe tbody tr th {\n",
       "        vertical-align: top;\n",
       "    }\n",
       "\n",
       "    .dataframe thead th {\n",
       "        text-align: right;\n",
       "    }\n",
       "</style>\n",
       "<table border=\"1\" class=\"dataframe\">\n",
       "  <thead>\n",
       "    <tr style=\"text-align: right;\">\n",
       "      <th></th>\n",
       "      <th>timestamp</th>\n",
       "      <th>Inf</th>\n",
       "      <th>1</th>\n",
       "      <th>10</th>\n",
       "      <th>100</th>\n",
       "      <th>1000</th>\n",
       "      <th>10000</th>\n",
       "      <th>100000</th>\n",
       "      <th>110000</th>\n",
       "      <th>120000</th>\n",
       "      <th>...</th>\n",
       "      <th>40000</th>\n",
       "      <th>5</th>\n",
       "      <th>50</th>\n",
       "      <th>500</th>\n",
       "      <th>5000</th>\n",
       "      <th>50000</th>\n",
       "      <th>60000</th>\n",
       "      <th>70000</th>\n",
       "      <th>80000</th>\n",
       "      <th>90000</th>\n",
       "    </tr>\n",
       "  </thead>\n",
       "  <tbody>\n",
       "    <tr>\n",
       "      <th>0</th>\n",
       "      <td>1564650000</td>\n",
       "      <td>88967916.0</td>\n",
       "      <td>56905292.0</td>\n",
       "      <td>72624894.0</td>\n",
       "      <td>88366166.0</td>\n",
       "      <td>88967203.0</td>\n",
       "      <td>88967824.0</td>\n",
       "      <td>88967916.0</td>\n",
       "      <td>88967916.0</td>\n",
       "      <td>88967916.0</td>\n",
       "      <td>...</td>\n",
       "      <td>88967916.0</td>\n",
       "      <td>69234222.0</td>\n",
       "      <td>87376013.0</td>\n",
       "      <td>88962228.0</td>\n",
       "      <td>88967673.0</td>\n",
       "      <td>88967916.0</td>\n",
       "      <td>88967916.0</td>\n",
       "      <td>88967916.0</td>\n",
       "      <td>88967916.0</td>\n",
       "      <td>88967916.0</td>\n",
       "    </tr>\n",
       "  </tbody>\n",
       "</table>\n",
       "<p>1 rows × 34 columns</p>\n",
       "</div>"
      ],
      "text/plain": [
       "    timestamp         Inf           1          10         100        1000  \\\n",
       "0  1564650000  88967916.0  56905292.0  72624894.0  88366166.0  88967203.0   \n",
       "\n",
       "        10000      100000      110000      120000  ...       40000  \\\n",
       "0  88967824.0  88967916.0  88967916.0  88967916.0  ...  88967916.0   \n",
       "\n",
       "            5          50         500        5000       50000       60000  \\\n",
       "0  69234222.0  87376013.0  88962228.0  88967673.0  88967916.0  88967916.0   \n",
       "\n",
       "        70000       80000       90000  \n",
       "0  88967916.0  88967916.0  88967916.0  \n",
       "\n",
       "[1 rows x 34 columns]"
      ]
     },
     "execution_count": 12,
     "metadata": {},
     "output_type": "execute_result"
    }
   ],
   "source": [
    "f = pd.read_csv('ms_bucket.csv')\n",
    "f.head(1)"
   ]
  },
  {
   "cell_type": "code",
   "execution_count": null,
   "metadata": {},
   "outputs": [],
   "source": []
  },
  {
   "cell_type": "code",
   "execution_count": 13,
   "metadata": {},
   "outputs": [],
   "source": [
    "f_time=f[['timestamp','Inf']]\n",
    "f=f[f.columns[2:]]\n",
    "\n",
    "#считаем сколько времени занял каждый вид запроса (время запроса * колличество таких запросов)\n",
    "\n",
    "for time in f.columns:\n",
    "    f[time]*=int(time)"
   ]
  },
  {
   "cell_type": "code",
   "execution_count": null,
   "metadata": {},
   "outputs": [],
   "source": []
  },
  {
   "cell_type": "code",
   "execution_count": 14,
   "metadata": {},
   "outputs": [],
   "source": [
    "#df[['B','C']].div(df.A, axis=0)\n",
    "\n",
    "f_time['sum']=f.sum(axis=1)\n",
    "f_time['std']=f.std(axis=1)"
   ]
  },
  {
   "cell_type": "code",
   "execution_count": 15,
   "metadata": {},
   "outputs": [
    {
     "data": {
      "text/html": [
       "<div>\n",
       "<style scoped>\n",
       "    .dataframe tbody tr th:only-of-type {\n",
       "        vertical-align: middle;\n",
       "    }\n",
       "\n",
       "    .dataframe tbody tr th {\n",
       "        vertical-align: top;\n",
       "    }\n",
       "\n",
       "    .dataframe thead th {\n",
       "        text-align: right;\n",
       "    }\n",
       "</style>\n",
       "<table border=\"1\" class=\"dataframe\">\n",
       "  <thead>\n",
       "    <tr style=\"text-align: right;\">\n",
       "      <th></th>\n",
       "      <th>timestamp</th>\n",
       "      <th>Inf</th>\n",
       "      <th>sum</th>\n",
       "      <th>std</th>\n",
       "    </tr>\n",
       "  </thead>\n",
       "  <tbody>\n",
       "    <tr>\n",
       "      <th>0</th>\n",
       "      <td>1564650000</td>\n",
       "      <td>88967916.0</td>\n",
       "      <td>7.087663e+13</td>\n",
       "      <td>3.398051e+12</td>\n",
       "    </tr>\n",
       "    <tr>\n",
       "      <th>1</th>\n",
       "      <td>1564650300</td>\n",
       "      <td>88989154.0</td>\n",
       "      <td>7.089355e+13</td>\n",
       "      <td>3.398862e+12</td>\n",
       "    </tr>\n",
       "    <tr>\n",
       "      <th>2</th>\n",
       "      <td>1564650600</td>\n",
       "      <td>89004769.0</td>\n",
       "      <td>7.090599e+13</td>\n",
       "      <td>3.399459e+12</td>\n",
       "    </tr>\n",
       "    <tr>\n",
       "      <th>3</th>\n",
       "      <td>1564650900</td>\n",
       "      <td>89020289.0</td>\n",
       "      <td>7.091835e+13</td>\n",
       "      <td>3.400052e+12</td>\n",
       "    </tr>\n",
       "    <tr>\n",
       "      <th>4</th>\n",
       "      <td>1564651200</td>\n",
       "      <td>89026526.0</td>\n",
       "      <td>7.092332e+13</td>\n",
       "      <td>3.400290e+12</td>\n",
       "    </tr>\n",
       "  </tbody>\n",
       "</table>\n",
       "</div>"
      ],
      "text/plain": [
       "    timestamp         Inf           sum           std\n",
       "0  1564650000  88967916.0  7.087663e+13  3.398051e+12\n",
       "1  1564650300  88989154.0  7.089355e+13  3.398862e+12\n",
       "2  1564650600  89004769.0  7.090599e+13  3.399459e+12\n",
       "3  1564650900  89020289.0  7.091835e+13  3.400052e+12\n",
       "4  1564651200  89026526.0  7.092332e+13  3.400290e+12"
      ]
     },
     "execution_count": 15,
     "metadata": {},
     "output_type": "execute_result"
    }
   ],
   "source": [
    "f_time['sum'].div(f_time['Inf'],axis=0)    #делим  подсчитанну сумму на колличество\n",
    "f_time['std'].div(f_time['Inf'],axis=0) \n",
    "f_time.head()"
   ]
  },
  {
   "cell_type": "code",
   "execution_count": null,
   "metadata": {},
   "outputs": [],
   "source": []
  },
  {
   "cell_type": "code",
   "execution_count": 16,
   "metadata": {},
   "outputs": [
    {
     "data": {
      "text/plain": [
       "<matplotlib.axes._subplots.AxesSubplot at 0x1a4f0d9a948>"
      ]
     },
     "execution_count": 16,
     "metadata": {},
     "output_type": "execute_result"
    },
    {
     "data": {
      "image/png": "[encoded data removed]",
      "text/plain": [
       "<Figure size 432x288 with 1 Axes>"
      ]
     },
     "metadata": {
      "needs_background": "light"
     },
     "output_type": "display_data"
    }
   ],
   "source": [
    "f_time.drop('Inf', inplace=True, axis=1)\n",
    "f_time.plot()"
   ]
  },
  {
   "cell_type": "code",
   "execution_count": null,
   "metadata": {},
   "outputs": [],
   "source": []
  },
  {
   "cell_type": "code",
   "execution_count": null,
   "metadata": {},
   "outputs": [],
   "source": []
  },
  {
   "cell_type": "code",
   "execution_count": null,
   "metadata": {},
   "outputs": [],
   "source": []
  },
  {
   "cell_type": "markdown",
   "metadata": {},
   "source": [
    "# 3.       Классификация вредоносного поведения. Не зверская) задача\n"
   ]
  },
  {
   "cell_type": "code",
   "execution_count": 169,
   "metadata": {},
   "outputs": [
    {
     "data": {
      "text/html": [
       "<div>\n",
       "<style scoped>\n",
       "    .dataframe tbody tr th:only-of-type {\n",
       "        vertical-align: middle;\n",
       "    }\n",
       "\n",
       "    .dataframe tbody tr th {\n",
       "        vertical-align: top;\n",
       "    }\n",
       "\n",
       "    .dataframe thead th {\n",
       "        text-align: right;\n",
       "    }\n",
       "</style>\n",
       "<table border=\"1\" class=\"dataframe\">\n",
       "  <thead>\n",
       "    <tr style=\"text-align: right;\">\n",
       "      <th></th>\n",
       "      <th>Unnamed: 0</th>\n",
       "      <th>hkey_local_machine\\\\software\\microsoft\\windows\\currentversion\\uninstall\\mobileoptionpack</th>\n",
       "      <th>hkey_classes_root\\\\clsid\\{148bd52a-a2ab-11ce-b11f-00aa00530503}</th>\n",
       "      <th>hkey_current_user\\\\software\\microsoft\\windows\\currentversion\\urlmon settings</th>\n",
       "      <th>hkey_local_machine\\\\system\\currentcontrolset\\services\\tcpip\\parameters\\interfaces\\ms tcp loopback interface</th>\n",
       "      <th>hkey_local_machine\\\\software\\microsoft\\net framework setup\\ndp\\v3.5</th>\n",
       "      <th>hkey_local_machine\\\\software\\microsoft\\windows nt\\currentversion\\winlogon</th>\n",
       "      <th>hkey_local_machine\\\\software\\microsoft\\windows\\currentversion\\internet settings\\user agent</th>\n",
       "      <th>hkey_local_machine\\\\system\\currentcontrolset\\services\\dnscache\\parameters</th>\n",
       "      <th>hkey_current_user\\\\software\\microsoft\\windows\\currentversion\\explorer\\mountpoints2\\cpc\\volume</th>\n",
       "      <th>...</th>\n",
       "      <th>c:\\windows\\system32\\kernel32.dll</th>\n",
       "      <th>c:\\documents and settings\\username\\application data\\microsoft\\cryptneturlcache\\metadata\\2bf68f4714092295550497dd56f57004</th>\n",
       "      <th>c:\\windows\\system32\\shdocvw.dll</th>\n",
       "      <th>c:\\windows\\system32\\psapi.dll</th>\n",
       "      <th>c:\\windows\\system32\\cmd.exe</th>\n",
       "      <th>c:\\windows\\dll\\mscorlib.pdb</th>\n",
       "      <th>\\\\.\\vboxguest</th>\n",
       "      <th>unnamedfile</th>\n",
       "      <th>wdmaud.drv_file</th>\n",
       "      <th>tag</th>\n",
       "    </tr>\n",
       "  </thead>\n",
       "  <tbody>\n",
       "    <tr>\n",
       "      <th>0</th>\n",
       "      <td>00005122106941E2A0B5A651249D71ADD11C561167F3F9...</td>\n",
       "      <td>0</td>\n",
       "      <td>0</td>\n",
       "      <td>0</td>\n",
       "      <td>0</td>\n",
       "      <td>0</td>\n",
       "      <td>2</td>\n",
       "      <td>0</td>\n",
       "      <td>1</td>\n",
       "      <td>0</td>\n",
       "      <td>...</td>\n",
       "      <td>0</td>\n",
       "      <td>0</td>\n",
       "      <td>0</td>\n",
       "      <td>0</td>\n",
       "      <td>0</td>\n",
       "      <td>0</td>\n",
       "      <td>0</td>\n",
       "      <td>0</td>\n",
       "      <td>0</td>\n",
       "      <td>0</td>\n",
       "    </tr>\n",
       "    <tr>\n",
       "      <th>1</th>\n",
       "      <td>0000CF95A98B33F00F4CDCBD13017EAB7B9589BE79617D...</td>\n",
       "      <td>0</td>\n",
       "      <td>0</td>\n",
       "      <td>0</td>\n",
       "      <td>0</td>\n",
       "      <td>0</td>\n",
       "      <td>0</td>\n",
       "      <td>0</td>\n",
       "      <td>0</td>\n",
       "      <td>0</td>\n",
       "      <td>...</td>\n",
       "      <td>0</td>\n",
       "      <td>0</td>\n",
       "      <td>0</td>\n",
       "      <td>0</td>\n",
       "      <td>0</td>\n",
       "      <td>0</td>\n",
       "      <td>0</td>\n",
       "      <td>0</td>\n",
       "      <td>0</td>\n",
       "      <td>0</td>\n",
       "    </tr>\n",
       "    <tr>\n",
       "      <th>2</th>\n",
       "      <td>00015A2AEE06230C7E12B8D1E79F345F90008F0DD3175B...</td>\n",
       "      <td>0</td>\n",
       "      <td>0</td>\n",
       "      <td>0</td>\n",
       "      <td>0</td>\n",
       "      <td>0</td>\n",
       "      <td>0</td>\n",
       "      <td>0</td>\n",
       "      <td>0</td>\n",
       "      <td>0</td>\n",
       "      <td>...</td>\n",
       "      <td>0</td>\n",
       "      <td>0</td>\n",
       "      <td>0</td>\n",
       "      <td>0</td>\n",
       "      <td>0</td>\n",
       "      <td>0</td>\n",
       "      <td>0</td>\n",
       "      <td>0</td>\n",
       "      <td>0</td>\n",
       "      <td>1</td>\n",
       "    </tr>\n",
       "    <tr>\n",
       "      <th>3</th>\n",
       "      <td>0001D0A0243A15D78F10DB87FD721E4F06F3B9892257FC...</td>\n",
       "      <td>0</td>\n",
       "      <td>0</td>\n",
       "      <td>0</td>\n",
       "      <td>0</td>\n",
       "      <td>0</td>\n",
       "      <td>4</td>\n",
       "      <td>0</td>\n",
       "      <td>0</td>\n",
       "      <td>0</td>\n",
       "      <td>...</td>\n",
       "      <td>1</td>\n",
       "      <td>0</td>\n",
       "      <td>0</td>\n",
       "      <td>0</td>\n",
       "      <td>0</td>\n",
       "      <td>0</td>\n",
       "      <td>0</td>\n",
       "      <td>0</td>\n",
       "      <td>0</td>\n",
       "      <td>0</td>\n",
       "    </tr>\n",
       "    <tr>\n",
       "      <th>4</th>\n",
       "      <td>0001D6A56EBCF3C0DEF053DA01454BF23021DE7DF1FC48...</td>\n",
       "      <td>0</td>\n",
       "      <td>0</td>\n",
       "      <td>0</td>\n",
       "      <td>0</td>\n",
       "      <td>0</td>\n",
       "      <td>0</td>\n",
       "      <td>0</td>\n",
       "      <td>0</td>\n",
       "      <td>0</td>\n",
       "      <td>...</td>\n",
       "      <td>0</td>\n",
       "      <td>0</td>\n",
       "      <td>0</td>\n",
       "      <td>0</td>\n",
       "      <td>0</td>\n",
       "      <td>0</td>\n",
       "      <td>0</td>\n",
       "      <td>0</td>\n",
       "      <td>0</td>\n",
       "      <td>1</td>\n",
       "    </tr>\n",
       "  </tbody>\n",
       "</table>\n",
       "<p>5 rows × 855 columns</p>\n",
       "</div>"
      ],
      "text/plain": [
       "                                          Unnamed: 0  \\\n",
       "0  00005122106941E2A0B5A651249D71ADD11C561167F3F9...   \n",
       "1  0000CF95A98B33F00F4CDCBD13017EAB7B9589BE79617D...   \n",
       "2  00015A2AEE06230C7E12B8D1E79F345F90008F0DD3175B...   \n",
       "3  0001D0A0243A15D78F10DB87FD721E4F06F3B9892257FC...   \n",
       "4  0001D6A56EBCF3C0DEF053DA01454BF23021DE7DF1FC48...   \n",
       "\n",
       "   hkey_local_machine\\\\software\\microsoft\\windows\\currentversion\\uninstall\\mobileoptionpack  \\\n",
       "0                                                  0                                          \n",
       "1                                                  0                                          \n",
       "2                                                  0                                          \n",
       "3                                                  0                                          \n",
       "4                                                  0                                          \n",
       "\n",
       "   hkey_classes_root\\\\clsid\\{148bd52a-a2ab-11ce-b11f-00aa00530503}  \\\n",
       "0                                                  0                 \n",
       "1                                                  0                 \n",
       "2                                                  0                 \n",
       "3                                                  0                 \n",
       "4                                                  0                 \n",
       "\n",
       "   hkey_current_user\\\\software\\microsoft\\windows\\currentversion\\urlmon settings  \\\n",
       "0                                                  0                              \n",
       "1                                                  0                              \n",
       "2                                                  0                              \n",
       "3                                                  0                              \n",
       "4                                                  0                              \n",
       "\n",
       "   hkey_local_machine\\\\system\\currentcontrolset\\services\\tcpip\\parameters\\interfaces\\ms tcp loopback interface  \\\n",
       "0                                                  0                                                             \n",
       "1                                                  0                                                             \n",
       "2                                                  0                                                             \n",
       "3                                                  0                                                             \n",
       "4                                                  0                                                             \n",
       "\n",
       "   hkey_local_machine\\\\software\\microsoft\\net framework setup\\ndp\\v3.5  \\\n",
       "0                                                  0                     \n",
       "1                                                  0                     \n",
       "2                                                  0                     \n",
       "3                                                  0                     \n",
       "4                                                  0                     \n",
       "\n",
       "   hkey_local_machine\\\\software\\microsoft\\windows nt\\currentversion\\winlogon  \\\n",
       "0                                                  2                           \n",
       "1                                                  0                           \n",
       "2                                                  0                           \n",
       "3                                                  4                           \n",
       "4                                                  0                           \n",
       "\n",
       "   hkey_local_machine\\\\software\\microsoft\\windows\\currentversion\\internet settings\\user agent  \\\n",
       "0                                                  0                                            \n",
       "1                                                  0                                            \n",
       "2                                                  0                                            \n",
       "3                                                  0                                            \n",
       "4                                                  0                                            \n",
       "\n",
       "   hkey_local_machine\\\\system\\currentcontrolset\\services\\dnscache\\parameters  \\\n",
       "0                                                  1                           \n",
       "1                                                  0                           \n",
       "2                                                  0                           \n",
       "3                                                  0                           \n",
       "4                                                  0                           \n",
       "\n",
       "   hkey_current_user\\\\software\\microsoft\\windows\\currentversion\\explorer\\mountpoints2\\cpc\\volume  \\\n",
       "0                                                  0                                               \n",
       "1                                                  0                                               \n",
       "2                                                  0                                               \n",
       "3                                                  0                                               \n",
       "4                                                  0                                               \n",
       "\n",
       "   ...  c:\\windows\\system32\\kernel32.dll  \\\n",
       "0  ...                                 0   \n",
       "1  ...                                 0   \n",
       "2  ...                                 0   \n",
       "3  ...                                 1   \n",
       "4  ...                                 0   \n",
       "\n",
       "   c:\\documents and settings\\username\\application data\\microsoft\\cryptneturlcache\\metadata\\2bf68f4714092295550497dd56f57004  \\\n",
       "0                                                  0                                                                          \n",
       "1                                                  0                                                                          \n",
       "2                                                  0                                                                          \n",
       "3                                                  0                                                                          \n",
       "4                                                  0                                                                          \n",
       "\n",
       "   c:\\windows\\system32\\shdocvw.dll  c:\\windows\\system32\\psapi.dll  \\\n",
       "0                                0                              0   \n",
       "1                                0                              0   \n",
       "2                                0                              0   \n",
       "3                                0                              0   \n",
       "4                                0                              0   \n",
       "\n",
       "   c:\\windows\\system32\\cmd.exe  c:\\windows\\dll\\mscorlib.pdb  \\\\.\\vboxguest  \\\n",
       "0                            0                            0              0   \n",
       "1                            0                            0              0   \n",
       "2                            0                            0              0   \n",
       "3                            0                            0              0   \n",
       "4                            0                            0              0   \n",
       "\n",
       "   unnamedfile  wdmaud.drv_file  tag  \n",
       "0            0                0    0  \n",
       "1            0                0    0  \n",
       "2            0                0    1  \n",
       "3            0                0    0  \n",
       "4            0                0    1  \n",
       "\n",
       "[5 rows x 855 columns]"
      ]
     },
     "execution_count": 169,
     "metadata": {},
     "output_type": "execute_result"
    }
   ],
   "source": [
    "b = pd.read_csv('behavior.csv')\n",
    "b.head()"
   ]
  },
  {
   "cell_type": "code",
   "execution_count": null,
   "metadata": {},
   "outputs": [],
   "source": []
  },
  {
   "cell_type": "code",
   "execution_count": null,
   "metadata": {},
   "outputs": [],
   "source": [
    "X[‘tod’] = X.index.hour\n",
    "# drop_first = True removes multi-collinearity\n",
    "add_var = pd.get_dummies(X[‘tod’], prefix=’tod’, drop_first=True)\n",
    "# Add all the columns to the model data\n",
    "X = X.join(add_var)\n",
    "# Drop the original column that was expanded\n",
    "X.drop(columns=[‘tod’], inplace=True)\n",
    "print(X.head())"
   ]
  },
  {
   "cell_type": "code",
   "execution_count": null,
   "metadata": {},
   "outputs": [],
   "source": [
    "model = LinearRegression()\n",
    "scores = []\n",
    "kfold = KFold(n_splits=3, shuffle=True, random_state=42)\n",
    "for i, (train, test) in enumerate(kfold.split(X, y)):\n",
    " model.fit(X.iloc[train,:], y.iloc[train,:])\n",
    " scores.append(model.score(X.iloc[test,:], y.iloc[test,:]))\n",
    "print(scores)\n"
   ]
  },
  {
   "cell_type": "code",
   "execution_count": null,
   "metadata": {},
   "outputs": [],
   "source": []
  }
 ],
 "metadata": {
  "kernelspec": {
   "display_name": "Python 3",
   "language": "python",
   "name": "python3"
  },
  "language_info": {
   "codemirror_mode": {
    "name": "ipython",
    "version": 3
   },
   "file_extension": ".py",
   "mimetype": "text/x-python",
   "name": "python",
   "nbconvert_exporter": "python",
   "pygments_lexer": "ipython3",
   "version": "3.7.6"
  }
 },
 "nbformat": 4,
 "nbformat_minor": 4
}
